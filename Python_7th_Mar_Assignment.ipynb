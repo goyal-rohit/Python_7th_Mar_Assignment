{
 "cells": [
  {
   "cell_type": "code",
   "execution_count": 2,
   "id": "b2586d8f-f50a-45bc-8723-c6fc682ab5d4",
   "metadata": {},
   "outputs": [],
   "source": [
    "import pandas as pd\n",
    "import numpy as np\n",
    "import seaborn as sns"
   ]
  },
  {
   "cell_type": "markdown",
   "id": "e665a371-bb37-4510-b534-0ee4be41abc9",
   "metadata": {},
   "source": [
    "#### Q1. What are the three measures of central tendency?"
   ]
  },
  {
   "cell_type": "markdown",
   "id": "a523e3d2-d1fa-4340-8d4a-e1f6fd5e085a",
   "metadata": {},
   "source": [
    "Mean, Median, Mode"
   ]
  },
  {
   "cell_type": "markdown",
   "id": "1a0b272c-178e-4de5-9c39-cdfcc2878bb6",
   "metadata": {},
   "source": [
    "#### Q2. What is the difference between the mean, median, and mode? How are they used to measure the central tendency of a dataset?"
   ]
  },
  {
   "cell_type": "markdown",
   "id": "16614090-ff30-42bc-8141-0fe3ab18adc6",
   "metadata": {},
   "source": [
    "The mean, median, and mode are three different measures of central tendency used to describe the center of a dataset. The main differences between them are:\n",
    "\n",
    "1. Mean: The mean is the arithmetic average of a set of data. It is calculated by summing up all the values in the dataset and dividing by the number of values. The mean is affected by extreme values, or outliers, and is generally used to describe datasets with a symmetrical distribution.\n",
    "\n",
    "2. Median: The median is the middle value of a set of data when the values are arranged in order of magnitude. If the dataset has an even number of values, the median is the average of the two middle values. The median is not affected by extreme values and is generally used to describe datasets with a skewed distribution.\n",
    "\n",
    "3. Mode: The mode is the value that occurs most frequently in a set of data. A dataset can have multiple modes, or no mode at all if all values occur with the same frequency. The mode is not affected by extreme values and is generally used to describe datasets with a categorical or nominal variable.\n",
    "\n",
    "These measures are used to measure the central tendency of a dataset because they provide information about where the center of the data is located. For example, if the mean, median, and mode are all close in value, it suggests that the data is clustered around a central value. If the mean is much larger or smaller than the median or mode, it suggests that the data is skewed in one direction or the other. The choice of measure to use depends on the type of data and the research question being addressed."
   ]
  },
  {
   "cell_type": "markdown",
   "id": "21dab10d-a93f-4e7f-a9d6-636fb816648e",
   "metadata": {},
   "source": [
    "#### Q3. Measure the three measures of central tendency for the given height data:"
   ]
  },
  {
   "cell_type": "code",
   "execution_count": 1,
   "id": "c63f9496-0544-41b4-8767-d5082b4b8ea4",
   "metadata": {},
   "outputs": [],
   "source": [
    "height = [178,177,176,177,178.2,178,175,179,180,175,178.9,176.2,177,172.5,178,176.5]"
   ]
  },
  {
   "cell_type": "code",
   "execution_count": 3,
   "id": "0c03effb-1e21-4ef3-9dd5-f04b6f818bd4",
   "metadata": {},
   "outputs": [],
   "source": [
    "df = pd.DataFrame(height)"
   ]
  },
  {
   "cell_type": "code",
   "execution_count": 4,
   "id": "08c89b91-c99c-48a3-9698-0fa8b6ee4216",
   "metadata": {},
   "outputs": [
    {
     "data": {
      "text/plain": [
       "0    177.01875\n",
       "dtype: float64"
      ]
     },
     "execution_count": 4,
     "metadata": {},
     "output_type": "execute_result"
    }
   ],
   "source": [
    "df.mean()"
   ]
  },
  {
   "cell_type": "code",
   "execution_count": 5,
   "id": "a0577106-d41b-444f-80cf-a375b0fa0147",
   "metadata": {},
   "outputs": [
    {
     "data": {
      "text/plain": [
       "0    177.0\n",
       "dtype: float64"
      ]
     },
     "execution_count": 5,
     "metadata": {},
     "output_type": "execute_result"
    }
   ],
   "source": [
    "df.median()"
   ]
  },
  {
   "cell_type": "code",
   "execution_count": 6,
   "id": "45892f40-c447-4dc6-bd0f-c4a2e1636206",
   "metadata": {},
   "outputs": [
    {
     "data": {
      "text/html": [
       "<div>\n",
       "<style scoped>\n",
       "    .dataframe tbody tr th:only-of-type {\n",
       "        vertical-align: middle;\n",
       "    }\n",
       "\n",
       "    .dataframe tbody tr th {\n",
       "        vertical-align: top;\n",
       "    }\n",
       "\n",
       "    .dataframe thead th {\n",
       "        text-align: right;\n",
       "    }\n",
       "</style>\n",
       "<table border=\"1\" class=\"dataframe\">\n",
       "  <thead>\n",
       "    <tr style=\"text-align: right;\">\n",
       "      <th></th>\n",
       "      <th>0</th>\n",
       "    </tr>\n",
       "  </thead>\n",
       "  <tbody>\n",
       "    <tr>\n",
       "      <th>0</th>\n",
       "      <td>177.0</td>\n",
       "    </tr>\n",
       "    <tr>\n",
       "      <th>1</th>\n",
       "      <td>178.0</td>\n",
       "    </tr>\n",
       "  </tbody>\n",
       "</table>\n",
       "</div>"
      ],
      "text/plain": [
       "       0\n",
       "0  177.0\n",
       "1  178.0"
      ]
     },
     "execution_count": 6,
     "metadata": {},
     "output_type": "execute_result"
    }
   ],
   "source": [
    "df.mode()"
   ]
  },
  {
   "cell_type": "markdown",
   "id": "0921a9ca-8a52-4444-a616-fc98779d8aed",
   "metadata": {},
   "source": [
    "#### Q4. Find the standard deviation for the given data:"
   ]
  },
  {
   "cell_type": "code",
   "execution_count": 7,
   "id": "411f46ac-4478-495c-a71d-24512e295d83",
   "metadata": {},
   "outputs": [
    {
     "data": {
      "text/plain": [
       "0    1.847239\n",
       "dtype: float64"
      ]
     },
     "execution_count": 7,
     "metadata": {},
     "output_type": "execute_result"
    }
   ],
   "source": [
    "df.std()"
   ]
  },
  {
   "cell_type": "markdown",
   "id": "6dca0dd9-ef06-415b-8c16-1874b0409c9a",
   "metadata": {},
   "source": [
    "#### Q5. How are measures of dispersion such as range, variance, and standard deviation used to describe the spread of a dataset? Provide an example."
   ]
  },
  {
   "cell_type": "markdown",
   "id": "cc4ed6dc-6e86-4a91-8b78-7669c4fbc065",
   "metadata": {},
   "source": [
    "Measures of dispersion such as range, variance, and standard deviation are used to describe the spread of a dataset.\n",
    "\n",
    "1. Range: The range is the difference between the maximum and minimum values in a dataset. It provides a quick estimate of the spread of the data, but it is highly influenced by extreme values.\n",
    "\n",
    "2. Variance: The variance is a measure of how much the values in a dataset deviate from the mean. It is calculated by summing the squared deviations of each value from the mean and dividing by the number of values. A higher variance indicates that the data is more spread out, while a lower variance indicates that the data is clustered closer to the mean.\n",
    "\n",
    "3. Standard deviation: The standard deviation is the square root of the variance. It is a commonly used measure of dispersion and is more interpretable than the variance, as it is expressed in the same units as the original data. A higher standard deviation indicates that the data is more spread out, while a lower standard deviation indicates that the data is clustered closer to the mean.\n",
    "\n",
    "For example, consider the following dataset of test scores for a class: 75, 80, 85, 90, 95. The range of this dataset is 20, the variance is 50, and the standard deviation is approximately 7.1. These measures suggest that the scores are clustered around the mean of 85, but with some variability between values. The range indicates that the scores are spread out over a range of 20 points, while the variance and standard deviation indicate that the data is relatively tightly clustered around the mean."
   ]
  },
  {
   "cell_type": "markdown",
   "id": "9ab7c5cc-a263-4c5b-886c-dda2cb08361a",
   "metadata": {},
   "source": [
    "#### Q6. What is a Venn diagram?"
   ]
  },
  {
   "cell_type": "markdown",
   "id": "1cb84662-e0bb-4ed1-98c2-4b9aa6d3daa1",
   "metadata": {},
   "source": [
    "A Venn diagram is a graphical representation of the relationships between sets, often used in mathematics, logic, and statistics. It consists of overlapping circles or other shapes, with each circle representing a set and the overlapping areas representing the intersections of those sets. The Venn diagram was developed by John Venn in the late 19th century as a way of visualizing set theory concepts."
   ]
  },
  {
   "cell_type": "markdown",
   "id": "33f25ff3-25e8-49da-b990-69c2493a3a1c",
   "metadata": {},
   "source": [
    "#### Q7. For the two given sets A = (2,3,4,5,6,7) & B = (0,2,6,8,10). Find:\n",
    "(i) A intersection B\n",
    "(ii) A union B"
   ]
  },
  {
   "cell_type": "markdown",
   "id": "7412da50-26bc-471c-be2a-873e48f22a41",
   "metadata": {},
   "source": [
    "(i): (2,6)\n",
    "(ii): (0,2,3,4,5,6,7,8,10)"
   ]
  },
  {
   "cell_type": "markdown",
   "id": "645d376e-3c5c-41c5-9106-f706e7d36929",
   "metadata": {},
   "source": [
    "#### Q8. What do you understand about skewness in data?"
   ]
  },
  {
   "cell_type": "markdown",
   "id": "cc1f9e30-1364-4c7f-9ec5-22b8d2a250af",
   "metadata": {},
   "source": [
    "Skewness is a measure of the asymmetry of a probability distribution, indicating the degree to which a dataset deviates from symmetry around its mean. A dataset is said to be skewed if it is not symmetric, meaning that it is skewed to the left or right of the mean."
   ]
  },
  {
   "cell_type": "markdown",
   "id": "7132c650-bc90-431d-9500-4916331a9b1e",
   "metadata": {},
   "source": [
    "#### Q9. If a data is right skewed then what will be the position of median with respect to mean?"
   ]
  },
  {
   "cell_type": "markdown",
   "id": "9372dba0-a7fe-4f32-8b12-0217de27787c",
   "metadata": {},
   "source": [
    "If the data us right skewed that means that this is positive skewed and the tail of distribution is extended to the right of the mean and the median is less than mean"
   ]
  },
  {
   "cell_type": "markdown",
   "id": "4b6c827f-4b44-4adc-8287-98640c603be5",
   "metadata": {},
   "source": [
    "#### Q10. Explain the difference between covariance and correlation. How are these measures used in statistical analysis?"
   ]
  },
  {
   "cell_type": "markdown",
   "id": "f3410b66-a03e-4a14-958f-dc13e388a4c2",
   "metadata": {},
   "source": [
    "Covariance and correlation are two measures used in statistics to describe the relationship between two variables.\n",
    "\n",
    "Covariance measures the extent to which two variables vary together. It is a measure of the linear association between two variables, indicating whether they tend to increase or decrease together. A positive covariance indicates that the two variables tend to move in the same direction, while a negative covariance indicates that they tend to move in opposite directions. However, covariance does not provide information about the strength of the relationship or how well the variables are related.\n",
    "\n",
    "Correlation, on the other hand, measures the strength and direction of the relationship between two variables. It is a standardized version of covariance, with values ranging from -1 to +1. A correlation coefficient of +1 indicates a perfect positive relationship, while a coefficient of -1 indicates a perfect negative relationship. A coefficient of 0 indicates no relationship between the variables. Correlation provides a more interpretable measure of association, as it is not affected by differences in scale or units between the variables.\n",
    "\n",
    "Both covariance and correlation are used in statistical analysis to understand the relationship between two variables. Covariance can be used to identify whether two variables are associated, and whether the relationship is positive or negative. Correlation provides additional information about the strength and direction of the relationship, allowing researchers to make more informed decisions about the nature of the relationship and the appropriate statistical tests to use."
   ]
  },
  {
   "cell_type": "markdown",
   "id": "d7004de7-318a-4150-8f3a-cfd8d4c4613c",
   "metadata": {},
   "source": [
    "#### Q11. What is the formula for calculating the sample mean? Provide an example calculation for a dataset."
   ]
  },
  {
   "cell_type": "markdown",
   "id": "1fed3b26-e959-4892-8368-97b1aa4543db",
   "metadata": {},
   "source": [
    "The formula to calculate the sample mean is sum of all values divided by the number of values in the dataset\n",
    "\n",
    "For example, suppose we have the following dataset:\n",
    "\n",
    "3, 6, 8, 2, 5\n",
    "\n",
    "To calculate the sample mean, we add up all the values in the dataset and divide by the total number of values:\n",
    "\n",
    "x̄ = (3 + 6 + 8 + 2 + 5) / 5 = 4.8\n",
    "\n",
    "Therefore, the sample mean for this dataset is 4.8."
   ]
  },
  {
   "cell_type": "markdown",
   "id": "8e431b6b-8de9-4de9-9cf5-bec8780e6ec2",
   "metadata": {},
   "source": [
    "#### Q12. For a normal distribution data what is the relationship between its measure of central tendency?"
   ]
  },
  {
   "cell_type": "markdown",
   "id": "fd80a8d1-3e17-451f-83cc-cb3036badeac",
   "metadata": {},
   "source": [
    "For a normal distribution, the measures of central tendency (mean, median, and mode) are all equal. This means that the peak of the distribution (mode), the middle of the distribution (median), and the arithmetic average of all the values in the distribution (mean) are all at the same point."
   ]
  },
  {
   "cell_type": "markdown",
   "id": "1a25a87c-9bda-45ca-a92b-726f7d840d00",
   "metadata": {},
   "source": [
    "#### Q13. How is covariance different from correlation?"
   ]
  },
  {
   "cell_type": "markdown",
   "id": "445d55bb-7d7f-41c3-9989-97c6be63f3b9",
   "metadata": {
    "tags": []
   },
   "source": [
    "Covariance measures the extent to which two variables vary together. It is a measure of the linear association between two variables, indicating whether they tend to increase or decrease together. A positive covariance indicates that the two variables tend to move in the same direction, while a negative covariance indicates that they tend to move in opposite directions. However, covariance does not provide information about the strength of the relationship or how well the variables are related.\n",
    "\n",
    "Correlation, on the other hand, measures the strength and direction of the relationship between two variables. It is a standardized version of covariance, with values ranging from -1 to +1. A correlation coefficient of +1 indicates a perfect positive relationship, while a coefficient of -1 indicates a perfect negative relationship. A coefficient of 0 indicates no relationship between the variables. Correlation provides a more interpretable measure of association, as it is not affected by differences in scale or units between the variables."
   ]
  },
  {
   "cell_type": "markdown",
   "id": "c0360924-99d8-4f90-95e2-4f4d70a363fd",
   "metadata": {},
   "source": [
    "#### Q14. How do outliers affect measures of central tendency and dispersion? Provide an example."
   ]
  },
  {
   "cell_type": "markdown",
   "id": "02ed3848-9848-4cc7-a149-bf72df459ab0",
   "metadata": {},
   "source": [
    "Outliers are data points that are significantly different from other data points in a dataset. Outliers can have a significant impact on measures of central tendency and dispersion, as they can skew the distribution and affect the calculation of summary statistics.\n",
    "\n",
    "In terms of measures of central tendency, outliers can significantly affect the mean, which is particularly sensitive to extreme values. However, outliers are less likely to affect the median or mode, which are less sensitive to extreme values.\n",
    "\n",
    "In terms of measures of dispersion, outliers can significantly affect the range, variance, and standard deviation. The range, for example, is directly affected by outliers because it is the difference between the largest and smallest values in the dataset. The variance and standard deviation, which measure the spread of the data around the mean, can also be significantly affected by outliers because they can increase the distance of the mean from the other data points.\n",
    "\n",
    "For example, consider a dataset of salaries of employees in a company, with the following values: 50,000, 60,000, 55,000, 58,000, 54,000, and 1,000,000. The outlier salary of 1,000,000 will significantly affect the calculation of the mean salary, which will be much higher than the typical salaries of the other employees. It will also increase the range, variance, and standard deviation of the dataset. If the outlier is removed, the measures of central tendency and dispersion will be more representative of the typical salaries of the employees."
   ]
  },
  {
   "cell_type": "code",
   "execution_count": null,
   "id": "afc60f40-51b8-4691-9ba9-7f22324c22da",
   "metadata": {},
   "outputs": [],
   "source": []
  }
 ],
 "metadata": {
  "kernelspec": {
   "display_name": "Python 3 (ipykernel)",
   "language": "python",
   "name": "python3"
  },
  "language_info": {
   "codemirror_mode": {
    "name": "ipython",
    "version": 3
   },
   "file_extension": ".py",
   "mimetype": "text/x-python",
   "name": "python",
   "nbconvert_exporter": "python",
   "pygments_lexer": "ipython3",
   "version": "3.10.9"
  }
 },
 "nbformat": 4,
 "nbformat_minor": 5
}
